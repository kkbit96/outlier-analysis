{
 "cells": [
  {
   "cell_type": "code",
   "execution_count": 1,
   "metadata": {},
   "outputs": [],
   "source": [
    "import matplotlib.pyplot as plt\n",
    "import numpy as np\n",
    "import pandas as pd\n",
    "import random\n",
    "\n",
    "from sklearn.preprocessing import LabelEncoder\n",
    "\n",
    "%matplotlib inline"
   ]
  },
  {
   "cell_type": "markdown",
   "metadata": {},
   "source": [
    "# Creating dataframe"
   ]
  },
  {
   "cell_type": "markdown",
   "metadata": {},
   "source": [
    "## Generating y values"
   ]
  },
  {
   "cell_type": "code",
   "execution_count": 2,
   "metadata": {},
   "outputs": [
    {
     "data": {
      "image/png": "[encoded data removed]",
      "text/plain": [
       "<matplotlib.figure.Figure at 0x7f566e073080>"
      ]
     },
     "metadata": {},
     "output_type": "display_data"
    }
   ],
   "source": [
    "valores = np.random.wald(1000, 500, 1000)\n",
    "\n",
    "\n",
    "plt.figure(figsize=(15,5))\n",
    "plt.ylabel('Contagem dos valores')\n",
    "plt.xlabel('Valores')\n",
    "h = plt.hist(valores, bins=200)"
   ]
  },
  {
   "cell_type": "code",
   "execution_count": 3,
   "metadata": {},
   "outputs": [],
   "source": [
    "df = pd.DataFrame()"
   ]
  },
  {
   "cell_type": "code",
   "execution_count": 4,
   "metadata": {},
   "outputs": [],
   "source": [
    "df['store_profit'] = valores"
   ]
  },
  {
   "cell_type": "markdown",
   "metadata": {},
   "source": [
    "## Gerating X values - Numerical Values"
   ]
  },
  {
   "cell_type": "code",
   "execution_count": 5,
   "metadata": {},
   "outputs": [],
   "source": [
    "rng = np.random.RandomState(42)"
   ]
  },
  {
   "cell_type": "code",
   "execution_count": 6,
   "metadata": {},
   "outputs": [],
   "source": [
    "Xs = 20 * rng.randn(df.shape[0], 2)"
   ]
  },
  {
   "cell_type": "code",
   "execution_count": 7,
   "metadata": {},
   "outputs": [],
   "source": [
    "df['products_in_stock'] = Xs[:,0] + 100\n",
    "df['product_rating'] = (Xs[:,1] + 80) / 2"
   ]
  },
  {
   "cell_type": "code",
   "execution_count": 8,
   "metadata": {},
   "outputs": [
    {
     "data": {
      "text/plain": [
       "Text(0.5,0,'products in stock')"
      ]
     },
     "execution_count": 8,
     "metadata": {},
     "output_type": "execute_result"
    },
    {
     "data": {
      "image/png": "[encoded data removed]",
      "text/plain": [
       "<matplotlib.figure.Figure at 0x7f56a4087dd8>"
      ]
     },
     "metadata": {},
     "output_type": "display_data"
    }
   ],
   "source": [
    "plt.scatter(df['products_in_stock'], df['product_rating'], c='black')\n",
    "plt.ylabel('product rating')\n",
    "plt.xlabel('products in stock')"
   ]
  },
  {
   "cell_type": "code",
   "execution_count": 9,
   "metadata": {},
   "outputs": [
    {
     "data": {
      "text/html": [
       "<div>\n",
       "<style scoped>\n",
       "    .dataframe tbody tr th:only-of-type {\n",
       "        vertical-align: middle;\n",
       "    }\n",
       "\n",
       "    .dataframe tbody tr th {\n",
       "        vertical-align: top;\n",
       "    }\n",
       "\n",
       "    .dataframe thead th {\n",
       "        text-align: right;\n",
       "    }\n",
       "</style>\n",
       "<table border=\"1\" class=\"dataframe\">\n",
       "  <thead>\n",
       "    <tr style=\"text-align: right;\">\n",
       "      <th></th>\n",
       "      <th>store_profit</th>\n",
       "      <th>products_in_stock</th>\n",
       "      <th>product_rating</th>\n",
       "    </tr>\n",
       "  </thead>\n",
       "  <tbody>\n",
       "    <tr>\n",
       "      <th>0</th>\n",
       "      <td>4338.108328</td>\n",
       "      <td>109.934283</td>\n",
       "      <td>38.617357</td>\n",
       "    </tr>\n",
       "    <tr>\n",
       "      <th>1</th>\n",
       "      <td>1939.910530</td>\n",
       "      <td>112.953771</td>\n",
       "      <td>55.230299</td>\n",
       "    </tr>\n",
       "    <tr>\n",
       "      <th>2</th>\n",
       "      <td>299.381392</td>\n",
       "      <td>95.316933</td>\n",
       "      <td>37.658630</td>\n",
       "    </tr>\n",
       "    <tr>\n",
       "      <th>3</th>\n",
       "      <td>565.626098</td>\n",
       "      <td>131.584256</td>\n",
       "      <td>47.674347</td>\n",
       "    </tr>\n",
       "    <tr>\n",
       "      <th>4</th>\n",
       "      <td>365.750750</td>\n",
       "      <td>90.610512</td>\n",
       "      <td>45.425600</td>\n",
       "    </tr>\n",
       "  </tbody>\n",
       "</table>\n",
       "</div>"
      ],
      "text/plain": [
       "   store_profit  products_in_stock  product_rating\n",
       "0   4338.108328         109.934283       38.617357\n",
       "1   1939.910530         112.953771       55.230299\n",
       "2    299.381392          95.316933       37.658630\n",
       "3    565.626098         131.584256       47.674347\n",
       "4    365.750750          90.610512       45.425600"
      ]
     },
     "execution_count": 9,
     "metadata": {},
     "output_type": "execute_result"
    }
   ],
   "source": [
    "df.head()"
   ]
  },
  {
   "cell_type": "markdown",
   "metadata": {},
   "source": [
    "# Generating X values - Categorical and Integers"
   ]
  },
  {
   "cell_type": "code",
   "execution_count": 10,
   "metadata": {},
   "outputs": [],
   "source": [
    "business_type = [\n",
    "    'paper store', 'pharmacy', 'supermarket', 'market', 'baker', 'clothes', 'sportsware', 'souvenirs',\n",
    "    'frouts and vegetables', 'sweet store', 'restaurant', 'ice cream', 'eletronic', 'construction', \n",
    "    'toys', 'celphone', 'mecanic', 'car wash'\n",
    "]"
   ]
  },
  {
   "cell_type": "code",
   "execution_count": 11,
   "metadata": {},
   "outputs": [],
   "source": [
    "btype = []\n",
    "\n",
    "for i in range(df.shape[0]):\n",
    "    btype.append(random.choice(business_type))\n",
    "    \n",
    "df['business'] = btype"
   ]
  },
  {
   "cell_type": "code",
   "execution_count": 12,
   "metadata": {},
   "outputs": [],
   "source": [
    "df['number_of_stores'] = np.random.randint(1,15, df.shape[0])\n",
    "df['number_of_employees'] = np.random.randint(5,100, df.shape[0])"
   ]
  },
  {
   "cell_type": "code",
   "execution_count": 13,
   "metadata": {},
   "outputs": [
    {
     "data": {
      "text/plain": [
       "Text(0.5,0,'Number of Employees')"
      ]
     },
     "execution_count": 13,
     "metadata": {},
     "output_type": "execute_result"
    },
    {
     "data": {
      "image/png": "[encoded data removed]",
      "text/plain": [
       "<matplotlib.figure.Figure at 0x7f566befed68>"
      ]
     },
     "metadata": {},
     "output_type": "display_data"
    }
   ],
   "source": [
    "plt.scatter(df['number_of_stores'], df['number_of_employees'], c='black')\n",
    "plt.ylabel('Number of Stores')\n",
    "plt.xlabel('Number of Employees')"
   ]
  },
  {
   "cell_type": "code",
   "execution_count": 14,
   "metadata": {},
   "outputs": [
    {
     "data": {
      "text/html": [
       "<div>\n",
       "<style scoped>\n",
       "    .dataframe tbody tr th:only-of-type {\n",
       "        vertical-align: middle;\n",
       "    }\n",
       "\n",
       "    .dataframe tbody tr th {\n",
       "        vertical-align: top;\n",
       "    }\n",
       "\n",
       "    .dataframe thead th {\n",
       "        text-align: right;\n",
       "    }\n",
       "</style>\n",
       "<table border=\"1\" class=\"dataframe\">\n",
       "  <thead>\n",
       "    <tr style=\"text-align: right;\">\n",
       "      <th></th>\n",
       "      <th>store_profit</th>\n",
       "      <th>products_in_stock</th>\n",
       "      <th>product_rating</th>\n",
       "      <th>number_of_stores</th>\n",
       "      <th>number_of_employees</th>\n",
       "    </tr>\n",
       "  </thead>\n",
       "  <tbody>\n",
       "    <tr>\n",
       "      <th>count</th>\n",
       "      <td>1000.000000</td>\n",
       "      <td>1000.000000</td>\n",
       "      <td>1000.000000</td>\n",
       "      <td>1000.000000</td>\n",
       "      <td>1000.000000</td>\n",
       "    </tr>\n",
       "    <tr>\n",
       "      <th>mean</th>\n",
       "      <td>1023.024648</td>\n",
       "      <td>100.663723</td>\n",
       "      <td>40.569821</td>\n",
       "      <td>7.505000</td>\n",
       "      <td>53.635000</td>\n",
       "    </tr>\n",
       "    <tr>\n",
       "      <th>std</th>\n",
       "      <td>1400.811512</td>\n",
       "      <td>19.232067</td>\n",
       "      <td>10.149593</td>\n",
       "      <td>4.003749</td>\n",
       "      <td>27.274708</td>\n",
       "    </tr>\n",
       "    <tr>\n",
       "      <th>min</th>\n",
       "      <td>37.922961</td>\n",
       "      <td>35.174653</td>\n",
       "      <td>10.596114</td>\n",
       "      <td>1.000000</td>\n",
       "      <td>5.000000</td>\n",
       "    </tr>\n",
       "    <tr>\n",
       "      <th>25%</th>\n",
       "      <td>266.749849</td>\n",
       "      <td>87.768388</td>\n",
       "      <td>33.485822</td>\n",
       "      <td>4.000000</td>\n",
       "      <td>31.000000</td>\n",
       "    </tr>\n",
       "    <tr>\n",
       "      <th>50%</th>\n",
       "      <td>519.706237</td>\n",
       "      <td>100.720869</td>\n",
       "      <td>40.477418</td>\n",
       "      <td>7.000000</td>\n",
       "      <td>54.000000</td>\n",
       "    </tr>\n",
       "    <tr>\n",
       "      <th>75%</th>\n",
       "      <td>1145.473834</td>\n",
       "      <td>112.966334</td>\n",
       "      <td>47.148859</td>\n",
       "      <td>11.000000</td>\n",
       "      <td>77.000000</td>\n",
       "    </tr>\n",
       "    <tr>\n",
       "      <th>max</th>\n",
       "      <td>11983.965100</td>\n",
       "      <td>161.577616</td>\n",
       "      <td>78.527315</td>\n",
       "      <td>14.000000</td>\n",
       "      <td>99.000000</td>\n",
       "    </tr>\n",
       "  </tbody>\n",
       "</table>\n",
       "</div>"
      ],
      "text/plain": [
       "       store_profit  products_in_stock  product_rating  number_of_stores  \\\n",
       "count   1000.000000        1000.000000     1000.000000       1000.000000   \n",
       "mean    1023.024648         100.663723       40.569821          7.505000   \n",
       "std     1400.811512          19.232067       10.149593          4.003749   \n",
       "min       37.922961          35.174653       10.596114          1.000000   \n",
       "25%      266.749849          87.768388       33.485822          4.000000   \n",
       "50%      519.706237         100.720869       40.477418          7.000000   \n",
       "75%     1145.473834         112.966334       47.148859         11.000000   \n",
       "max    11983.965100         161.577616       78.527315         14.000000   \n",
       "\n",
       "       number_of_employees  \n",
       "count          1000.000000  \n",
       "mean             53.635000  \n",
       "std              27.274708  \n",
       "min               5.000000  \n",
       "25%              31.000000  \n",
       "50%              54.000000  \n",
       "75%              77.000000  \n",
       "max              99.000000  "
      ]
     },
     "execution_count": 14,
     "metadata": {},
     "output_type": "execute_result"
    }
   ],
   "source": [
    "df.describe()"
   ]
  },
  {
   "cell_type": "code",
   "execution_count": 15,
   "metadata": {},
   "outputs": [],
   "source": [
    "df.to_csv('data/dataset.csv', index=False)"
   ]
  }
 ],
 "metadata": {
  "kernelspec": {
   "display_name": "Python 3",
   "language": "python",
   "name": "python3"
  },
  "language_info": {
   "codemirror_mode": {
    "name": "ipython",
    "version": 3
   },
   "file_extension": ".py",
   "mimetype": "text/x-python",
   "name": "python",
   "nbconvert_exporter": "python",
   "pygments_lexer": "ipython3",
   "version": "3.5.2"
  }
 },
 "nbformat": 4,
 "nbformat_minor": 2
}
